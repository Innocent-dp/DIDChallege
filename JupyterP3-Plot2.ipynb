{
 "cells": [
  {
   "cell_type": "code",
   "execution_count": 1,
   "metadata": {},
   "outputs": [],
   "source": [
    "import numpy as np\n",
    "import pandas as pd\n",
    "import math\n",
    "import matplotlib.pyplot as plt"
   ]
  },
  {
   "cell_type": "code",
   "execution_count": 2,
   "metadata": {
    "scrolled": false
   },
   "outputs": [
    {
     "name": "stderr",
     "output_type": "stream",
     "text": [
      "/Users/dhairya/Desktop/Anaconda/anaconda3/lib/python3.7/site-packages/IPython/core/interactiveshell.py:3058: DtypeWarning: Columns (9,10) have mixed types. Specify dtype option on import or set low_memory=False.\n",
      "  interactivity=interactivity, compiler=compiler, result=result)\n"
     ]
    }
   ],
   "source": [
    "file_path = r\"temp_datalab_records_linkedin_company.csv\"\n",
    "df = pd.read_csv(file_path)\n"
   ]
  },
  {
   "cell_type": "code",
   "execution_count": 3,
   "metadata": {
    "scrolled": true
   },
   "outputs": [
    {
     "name": "stdout",
     "output_type": "stream",
     "text": [
      "(2426196, 14)\n"
     ]
    }
   ],
   "source": [
    "df['as_of_date'] = pd.to_datetime(df['as_of_date'], infer_datetime_format=True)\n",
    "df['date_added'] = pd.to_datetime(df['date_added'], infer_datetime_format=True)\n",
    "\n",
    "df_old = df.copy()\n",
    "print(df_old.shape)\n",
    "df.drop_duplicates(subset =\"company_name\", \n",
    "                     keep = 'last', inplace = True)\n"
   ]
  },
  {
   "cell_type": "code",
   "execution_count": 4,
   "metadata": {
    "scrolled": true
   },
   "outputs": [],
   "source": [
    "df_ind = df.dropna(subset=['industry'])\n",
    "\n",
    "x = df_ind['industry'].values\n",
    "y = df_ind['employees_on_platform'].values\n",
    "z = df_ind['followers_count'].values\n",
    "\n",
    "unq_x, unq_idx, unq_inv = np.unique(x,return_index=True, return_inverse=True)\n",
    "\n",
    "sortd_unqinv = np.array(sorted(unq_inv))\n",
    "\n",
    "\n",
    "current = [sortd_unqinv]\n",
    "used = []\n",
    "dict_empl = {}\n",
    "dict_fol = {}\n",
    "for u_idx in unq_idx:\n",
    "    dict_empl[x[u_idx]] = 0\n",
    "    dict_fol[x[u_idx]] = 0\n",
    "\n",
    "for c in sortd_unqinv:    \n",
    "    if c not in used:\n",
    "        dict_empl[x[c]] = dict_empl[x[c]] + y[c]\n",
    "        dict_fol[x[c]] = dict_fol[x[c]] + z[c]        \n",
    "    used.append(c)\n",
    "    \n",
    "ind = []\n",
    "ind_f = []\n",
    "num_emp = []\n",
    "num_fol = []\n",
    "\n",
    "for k, v in dict_empl.items():\n",
    "    ind.append(k)\n",
    "    num_emp.append(v)\n",
    "    \n",
    "for k1, v1 in dict_fol.items():\n",
    "    ind_f.append(k1)\n",
    "    num_fol.append(v1)"
   ]
  },
  {
   "cell_type": "code",
   "execution_count": 5,
   "metadata": {},
   "outputs": [],
   "source": [
    "ind = np.array(ind)\n",
    "num_emp = np.array(num_emp)\n",
    "\n",
    "num_empl_idx = np.argsort(num_emp)\n",
    "sorted_num_empl = num_emp[num_empl_idx]\n",
    "sorted_ind = ind[num_empl_idx]\n",
    "sorted_ind_idx = np.arange(sorted_ind.shape[0]).reshape(sorted_ind.shape)"
   ]
  },
  {
   "cell_type": "code",
   "execution_count": 6,
   "metadata": {},
   "outputs": [
    {
     "data": {
      "image/png": "[encoded data removed]",
      "text/plain": [
       "<Figure size 432x288 with 1 Axes>"
      ]
     },
     "metadata": {
      "needs_background": "light"
     },
     "output_type": "display_data"
    },
    {
     "name": "stdout",
     "output_type": "stream",
     "text": [
      "Industries with highest employees on LinkedIn:\n",
      "['Retail' 'Financial Services' 'Consumer Goods' 'Telecommunications'\n",
      " 'Information Technology and Services']\n",
      "\n",
      "Industries with lowest employees on LinkedIn:\n",
      "['Law Practice' 'Outsourcing/Offshoring' 'Online Media'\n",
      " 'Nonprofit Organization Management' 'Newspapers']\n"
     ]
    }
   ],
   "source": [
    "plt.plot(sorted_ind_idx, sorted_num_empl)\n",
    "plt.show()\n",
    "\n",
    "print(\"Industries with highest employees on LinkedIn:\\n{}\" .format(sorted_ind[sorted_ind_idx[-5:]]))\n",
    "print(\"\\nIndustries with lowest employees on LinkedIn:\\n{}\" .format(sorted_ind[sorted_ind_idx[0:5]]))"
   ]
  },
  {
   "cell_type": "code",
   "execution_count": 7,
   "metadata": {},
   "outputs": [],
   "source": [
    "ind_f = np.array(ind_f)\n",
    "num_fol = np.array(num_fol)\n",
    "\n",
    "num_fol_idx = np.argsort(num_fol)\n",
    "sorted_num_fol = num_fol[num_fol_idx]\n",
    "sorted_ind_f = ind_f[num_fol_idx]\n",
    "sorted_ind_idx_f = np.arange(sorted_ind_f.shape[0]).reshape(sorted_ind_f.shape)"
   ]
  },
  {
   "cell_type": "code",
   "execution_count": 8,
   "metadata": {},
   "outputs": [
    {
     "data": {
      "image/png": "[encoded data removed]",
      "text/plain": [
       "<Figure size 432x288 with 1 Axes>"
      ]
     },
     "metadata": {
      "needs_background": "light"
     },
     "output_type": "display_data"
    },
    {
     "name": "stdout",
     "output_type": "stream",
     "text": [
      "Industries with highest followers on LinkedIn:\n",
      "['Retail' 'Financial Services' 'Consumer Goods' 'Telecommunications'\n",
      " 'Information Technology and Services']\n",
      "\n",
      "Industries with lowest followers on LinkedIn:\n",
      "['Law Practice' 'Outsourcing/Offshoring' 'Online Media'\n",
      " 'Nonprofit Organization Management' 'Newspapers']\n"
     ]
    }
   ],
   "source": [
    "plt.plot(sorted_ind_idx_f, sorted_num_fol)\n",
    "plt.show()\n",
    "\n",
    "print(\"Industries with highest followers on LinkedIn:\\n{}\" .format(sorted_ind[sorted_ind_idx[-5:]]))\n",
    "print(\"\\nIndustries with lowest followers on LinkedIn:\\n{}\" .format(sorted_ind[sorted_ind_idx[0:5]]))"
   ]
  },
  {
   "cell_type": "code",
   "execution_count": null,
   "metadata": {},
   "outputs": [],
   "source": []
  }
 ],
 "metadata": {
  "kernelspec": {
   "display_name": "Python 3",
   "language": "python",
   "name": "python3"
  },
  "language_info": {
   "codemirror_mode": {
    "name": "ipython",
    "version": 3
   },
   "file_extension": ".py",
   "mimetype": "text/x-python",
   "name": "python",
   "nbconvert_exporter": "python",
   "pygments_lexer": "ipython3",
   "version": "3.7.4"
  }
 },
 "nbformat": 4,
 "nbformat_minor": 2
}
