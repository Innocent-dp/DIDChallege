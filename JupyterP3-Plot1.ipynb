{
 "cells": [
  {
   "cell_type": "code",
   "execution_count": 1,
   "metadata": {},
   "outputs": [],
   "source": [
    "import numpy as np\n",
    "import pandas as pd\n",
    "import math\n",
    "import matplotlib.pyplot as plt"
   ]
  },
  {
   "cell_type": "code",
   "execution_count": 2,
   "metadata": {
    "scrolled": false
   },
   "outputs": [
    {
     "name": "stderr",
     "output_type": "stream",
     "text": [
      "/Users/dhairya/Desktop/Anaconda/anaconda3/lib/python3.7/site-packages/IPython/core/interactiveshell.py:3058: DtypeWarning: Columns (9,10) have mixed types. Specify dtype option on import or set low_memory=False.\n",
      "  interactivity=interactivity, compiler=compiler, result=result)\n"
     ]
    }
   ],
   "source": [
    "file_path = r\"temp_datalab_records_linkedin_company.csv\"\n",
    "df = pd.read_csv(file_path)\n"
   ]
  },
  {
   "cell_type": "code",
   "execution_count": 3,
   "metadata": {
    "scrolled": true
   },
   "outputs": [
    {
     "name": "stdout",
     "output_type": "stream",
     "text": [
      "(2426196, 14)\n"
     ]
    }
   ],
   "source": [
    "df['as_of_date'] = pd.to_datetime(df['as_of_date'], infer_datetime_format=True)\n",
    "df['date_added'] = pd.to_datetime(df['date_added'], infer_datetime_format=True)\n",
    "\n",
    "df_old = df.copy()\n",
    "print(df_old.shape)\n",
    "df.drop_duplicates(subset =\"company_name\", \n",
    "                     keep = 'last', inplace = True)\n"
   ]
  },
  {
   "cell_type": "code",
   "execution_count": 4,
   "metadata": {
    "scrolled": false
   },
   "outputs": [],
   "source": [
    "comp = df['company_name'].values\n",
    "\n",
    "empl = df['employees_on_platform'].values\n",
    "\n",
    "sorted_empl_idx = np.argsort(empl)\n",
    "sorted_empl = empl[sorted_empl_idx]\n",
    "sorted_comp = comp[sorted_empl_idx]\n",
    "sorted_comp_idx = np.arange(sorted_comp.shape[0]).reshape(sorted_comp.shape)"
   ]
  },
  {
   "cell_type": "code",
   "execution_count": 5,
   "metadata": {},
   "outputs": [
    {
     "data": {
      "image/png": "[encoded data removed]",
      "text/plain": [
       "<Figure size 432x288 with 1 Axes>"
      ]
     },
     "metadata": {
      "needs_background": "light"
     },
     "output_type": "display_data"
    },
    {
     "name": "stdout",
     "output_type": "stream",
     "text": [
      "Companies with highest employees on LinkedIn: \n",
      "['Hewlett-Packard' 'Tata Consultancy Services' 'Accenture' 'Walmart' 'IBM']\n",
      "\n",
      "Companies with lowest employees on LinkedIn: \n",
      "['China Advanced Construction Materials Group Inc (CADC)'\n",
      " 'UnitedHealthcare' 'Services bancaires aux petites entreprises de BMO'\n",
      " 'Anixter Network Solutions' 'NVIDIA GRID']\n"
     ]
    }
   ],
   "source": [
    "plt.plot(sorted_comp_idx, sorted_empl)\n",
    "plt.show()\n",
    "\n",
    "print(\"Companies with highest employees on LinkedIn: \\n{}\" .format(sorted_comp[-5:]))\n",
    "print(\"\\nCompanies with lowest employees on LinkedIn: \\n{}\" .format(sorted_comp[0:5]))"
   ]
  },
  {
   "cell_type": "code",
   "execution_count": 6,
   "metadata": {},
   "outputs": [],
   "source": [
    "comp = df['company_name'].values\n",
    "fol = df['followers_count'].values\n",
    "sorted_fol_idx = np.argsort(fol)\n",
    "sorted_fol = empl[sorted_fol_idx]\n",
    "sorted_comp = comp[sorted_fol_idx]\n",
    "sorted_comp_idx = np.arange(sorted_comp.shape[0]).reshape(sorted_comp.shape)\n"
   ]
  },
  {
   "cell_type": "code",
   "execution_count": 7,
   "metadata": {},
   "outputs": [
    {
     "data": {
      "image/png": "[encoded data removed]",
      "text/plain": [
       "<Figure size 432x288 with 1 Axes>"
      ]
     },
     "metadata": {
      "needs_background": "light"
     },
     "output_type": "display_data"
    },
    {
     "name": "stdout",
     "output_type": "stream",
     "text": [
      "Companies with highest followers: \n",
      "['IBM' 'Apple' 'Amazon' 'Microsoft' 'Google']\n",
      "\n",
      "Companies with lowest followers: \n",
      "['Apollo Reality Trust' 'Access Globia Inc' 'SkyData Systems'\n",
      " 'B C E Services Corp' 'Vyoo.it']\n"
     ]
    }
   ],
   "source": [
    "plt.plot(sorted_comp_idx, sorted_fol)\n",
    "plt.show()\n",
    "\n",
    "print(\"Companies with highest followers: \\n{}\" .format(sorted_comp[-5:]))\n",
    "print(\"\\nCompanies with lowest followers: \\n{}\" .format(sorted_comp[0:5]))"
   ]
  },
  {
   "cell_type": "code",
   "execution_count": null,
   "metadata": {},
   "outputs": [],
   "source": []
  }
 ],
 "metadata": {
  "kernelspec": {
   "display_name": "Python 3",
   "language": "python",
   "name": "python3"
  },
  "language_info": {
   "codemirror_mode": {
    "name": "ipython",
    "version": 3
   },
   "file_extension": ".py",
   "mimetype": "text/x-python",
   "name": "python",
   "nbconvert_exporter": "python",
   "pygments_lexer": "ipython3",
   "version": "3.7.4"
  }
 },
 "nbformat": 4,
 "nbformat_minor": 2
}
